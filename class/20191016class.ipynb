{
 "cells": [
  {
   "cell_type": "code",
   "execution_count": 1,
   "metadata": {},
   "outputs": [],
   "source": [
    "%matplotlib inline\n",
    "\n",
    "import numpy as np\n",
    "import matplotlib.pyplot as plt\n",
    "import pandas as pd"
   ]
  },
  {
   "cell_type": "markdown",
   "metadata": {},
   "source": [
    "### class method\n",
    "      __init__"
   ]
  },
  {
   "cell_type": "code",
   "execution_count": 4,
   "metadata": {},
   "outputs": [],
   "source": [
    "class Card:\n",
    "    \n",
    "    def __init__(self,s,r):\n",
    "        self.suit = s\n",
    "        self.rank = r"
   ]
  },
  {
   "cell_type": "code",
   "execution_count": 5,
   "metadata": {},
   "outputs": [],
   "source": [
    "card01 = Card(3,4)"
   ]
  },
  {
   "cell_type": "code",
   "execution_count": 6,
   "metadata": {},
   "outputs": [
    {
     "data": {
      "text/plain": [
       "3"
      ]
     },
     "execution_count": 6,
     "metadata": {},
     "output_type": "execute_result"
    }
   ],
   "source": [
    "card01.suit"
   ]
  },
  {
   "cell_type": "code",
   "execution_count": 16,
   "metadata": {},
   "outputs": [],
   "source": [
    "class Card:\n",
    "    \n",
    "    Suit = [\"Spade\",\"Heart\",\"Club\",\"Diamond\"]\n",
    "    Rank = ['A', '1', '2', '3', '4', '5', '6', '7', '8', '9', '0', 'J', 'Q', 'K']\n",
    "    \n",
    "    def __init__(self,s,r):\n",
    "        self.suit = s\n",
    "        self.rank = r\n",
    "    def __repr__(self):\n",
    "        thecard = self.Suit[self.suit] + self.Rank[self.rank]\n",
    "        return thecard"
   ]
  },
  {
   "cell_type": "code",
   "execution_count": 17,
   "metadata": {},
   "outputs": [],
   "source": [
    "card02 = Card(0,1)"
   ]
  },
  {
   "cell_type": "code",
   "execution_count": 18,
   "metadata": {},
   "outputs": [],
   "source": [
    "card01 = Card(1,1)"
   ]
  },
  {
   "cell_type": "code",
   "execution_count": 19,
   "metadata": {},
   "outputs": [
    {
     "data": {
      "text/plain": [
       "Heart1"
      ]
     },
     "execution_count": 19,
     "metadata": {},
     "output_type": "execute_result"
    }
   ],
   "source": [
    "card01"
   ]
  },
  {
   "cell_type": "markdown",
   "metadata": {},
   "source": [
    "### Save"
   ]
  },
  {
   "cell_type": "code",
   "execution_count": 20,
   "metadata": {},
   "outputs": [],
   "source": [
    "mydic = {\"火\":\"fire\",\"水\":\"water\",\"風\":\"wind\"}"
   ]
  },
  {
   "cell_type": "code",
   "execution_count": 21,
   "metadata": {},
   "outputs": [
    {
     "data": {
      "text/plain": [
       "dict_keys(['火', '水', '風'])"
      ]
     },
     "execution_count": 21,
     "metadata": {},
     "output_type": "execute_result"
    }
   ],
   "source": [
    "mydic.keys()"
   ]
  },
  {
   "cell_type": "code",
   "execution_count": 23,
   "metadata": {},
   "outputs": [
    {
     "name": "stdout",
     "output_type": "stream",
     "text": [
      "火 fire\n",
      "水 water\n",
      "風 wind\n"
     ]
    }
   ],
   "source": [
    "for elt in mydic.keys():\n",
    "    print(elt,mydic[elt])"
   ]
  },
  {
   "cell_type": "code",
   "execution_count": 26,
   "metadata": {},
   "outputs": [],
   "source": [
    "f = open('mydic.csv','w' )    "
   ]
  },
  {
   "cell_type": "markdown",
   "metadata": {},
   "source": [
    "for elt in mydic.keys():\n",
    "    print(elt,mydic[elt],file=f)"
   ]
  },
  {
   "cell_type": "code",
   "execution_count": 49,
   "metadata": {},
   "outputs": [
    {
     "data": {
      "text/plain": [
       "<function TextIOWrapper.close()>"
      ]
     },
     "execution_count": 49,
     "metadata": {},
     "output_type": "execute_result"
    }
   ],
   "source": [
    "f.close"
   ]
  },
  {
   "cell_type": "code",
   "execution_count": 50,
   "metadata": {},
   "outputs": [
    {
     "name": "stdout",
     "output_type": "stream",
     "text": [
      " 磁碟區 C 中的磁碟是 OS\n",
      " 磁碟區序號:  CCDD-EE3A\n",
      "\n",
      " C:\\Users\\halahala 的目錄\n",
      "\n",
      "2019/10/02  上午 11:36    <DIR>          .\n",
      "2019/10/02  上午 11:36    <DIR>          ..\n",
      "2019/10/15  下午 05:48             2,284 .bash_history\n",
      "2019/04/13  上午 12:22    <DIR>          .fontconfig\n",
      "2019/10/02  上午 11:36               124 .gitconfig\n",
      "2019/03/08  下午 09:18    <DIR>          .idlerc\n",
      "2019/03/10  下午 10:03    <DIR>          .ipython\n",
      "2019/03/20  下午 06:35    <DIR>          .jupyter\n",
      "2019/03/10  下午 10:06    <DIR>          .matplotlib\n",
      "2019/03/08  下午 07:02    <DIR>          Anaconda3\n",
      "2019/06/13  上午 07:25    <DIR>          Contacts\n",
      "2019/10/13  下午 08:56    <DIR>          Desktop\n",
      "2019/10/02  上午 11:49    <DIR>          Documents\n",
      "2019/10/15  下午 04:43    <DIR>          Downloads\n",
      "2019/06/13  上午 07:25    <DIR>          Favorites\n",
      "2019/07/12  下午 10:50    <DIR>          Google 雲端硬碟\n",
      "2019/06/13  上午 07:25    <DIR>          Links\n",
      "2019/06/13  上午 07:25    <DIR>          Music\n",
      "2019/10/02  下午 01:46    <DIR>          Pictures\n",
      "2019/10/02  上午 11:29                10 README.md\n",
      "2015/09/05  上午 03:27    <DIR>          Roaming\n",
      "2019/06/13  上午 07:25    <DIR>          Saved Games\n",
      "2019/06/13  上午 07:25    <DIR>          Searches\n",
      "2019/06/13  上午 07:25    <DIR>          Videos\n",
      "               3 個檔案           2,418 位元組\n",
      "              21 個目錄  121,489,694,720 位元組可用\n"
     ]
    }
   ],
   "source": [
    "%ls "
   ]
  },
  {
   "cell_type": "code",
   "execution_count": 52,
   "metadata": {},
   "outputs": [
    {
     "name": "stderr",
     "output_type": "stream",
     "text": [
      "系統找不到指定的檔案。\n"
     ]
    }
   ],
   "source": [
    "!type mydic.csv"
   ]
  },
  {
   "cell_type": "code",
   "execution_count": 53,
   "metadata": {},
   "outputs": [],
   "source": [
    "import pickle"
   ]
  },
  {
   "cell_type": "code",
   "execution_count": 54,
   "metadata": {},
   "outputs": [],
   "source": [
    "f = open('mydic.pickle','wb')"
   ]
  },
  {
   "cell_type": "code",
   "execution_count": 55,
   "metadata": {},
   "outputs": [],
   "source": [
    "pickle.dump(mydic,f)"
   ]
  },
  {
   "cell_type": "code",
   "execution_count": 56,
   "metadata": {},
   "outputs": [],
   "source": [
    "f.close()"
   ]
  },
  {
   "cell_type": "code",
   "execution_count": 57,
   "metadata": {},
   "outputs": [],
   "source": [
    "f = open('mydic.pickle','rb')"
   ]
  },
  {
   "cell_type": "code",
   "execution_count": 58,
   "metadata": {},
   "outputs": [],
   "source": [
    "gg = pickle.load(f)"
   ]
  },
  {
   "cell_type": "code",
   "execution_count": 59,
   "metadata": {},
   "outputs": [],
   "source": [
    "f.close()"
   ]
  },
  {
   "cell_type": "code",
   "execution_count": 60,
   "metadata": {},
   "outputs": [
    {
     "data": {
      "text/plain": [
       "{'火': 'fire', '水': 'water', '風': 'wind'}"
      ]
     },
     "execution_count": 60,
     "metadata": {},
     "output_type": "execute_result"
    }
   ],
   "source": [
    "gg"
   ]
  },
  {
   "cell_type": "markdown",
   "metadata": {},
   "source": [
    "###  建檔"
   ]
  },
  {
   "cell_type": "code",
   "execution_count": 61,
   "metadata": {},
   "outputs": [
    {
     "name": "stdout",
     "output_type": "stream",
     "text": [
      "Writing test.txt\n"
     ]
    }
   ],
   "source": [
    "%%writefile \"test.txt\"\n",
    "Piper Perri\n",
    "Kendra Surrderland"
   ]
  },
  {
   "cell_type": "code",
   "execution_count": 62,
   "metadata": {},
   "outputs": [
    {
     "name": "stdout",
     "output_type": "stream",
     "text": [
      " 磁碟區 C 中的磁碟是 OS\n",
      " 磁碟區序號:  CCDD-EE3A\n",
      "\n",
      " C:\\Users\\halahala 的目錄\n",
      "\n",
      "2019/10/16  上午 11:19    <DIR>          .\n",
      "2019/10/16  上午 11:19    <DIR>          ..\n",
      "2019/10/15  下午 05:48             2,284 .bash_history\n",
      "2019/04/13  上午 12:22    <DIR>          .fontconfig\n",
      "2019/10/02  上午 11:36               124 .gitconfig\n",
      "2019/03/08  下午 09:18    <DIR>          .idlerc\n",
      "2019/03/10  下午 10:03    <DIR>          .ipython\n",
      "2019/03/20  下午 06:35    <DIR>          .jupyter\n",
      "2019/03/10  下午 10:06    <DIR>          .matplotlib\n",
      "2019/03/08  下午 07:02    <DIR>          Anaconda3\n",
      "2019/06/13  上午 07:25    <DIR>          Contacts\n",
      "2019/10/13  下午 08:56    <DIR>          Desktop\n",
      "2019/10/02  上午 11:49    <DIR>          Documents\n",
      "2019/10/16  上午 11:02    <DIR>          Downloads\n",
      "2019/06/13  上午 07:25    <DIR>          Favorites\n",
      "2019/07/12  下午 10:50    <DIR>          Google 雲端硬碟\n",
      "2019/06/13  上午 07:25    <DIR>          Links\n",
      "2019/06/13  上午 07:25    <DIR>          Music\n",
      "2019/10/16  上午 10:57                72 mydic.pickle\n",
      "2019/10/02  下午 01:46    <DIR>          Pictures\n",
      "2019/10/02  上午 11:29                10 README.md\n",
      "2015/09/05  上午 03:27    <DIR>          Roaming\n",
      "2019/06/13  上午 07:25    <DIR>          Saved Games\n",
      "2019/06/13  上午 07:25    <DIR>          Searches\n",
      "2019/10/16  上午 11:19                33 test.txt\n",
      "2019/06/13  上午 07:25    <DIR>          Videos\n",
      "               5 個檔案           2,523 位元組\n",
      "              21 個目錄  132,544,811,008 位元組可用\n"
     ]
    }
   ],
   "source": [
    "%ls"
   ]
  },
  {
   "cell_type": "code",
   "execution_count": 63,
   "metadata": {},
   "outputs": [
    {
     "name": "stdout",
     "output_type": "stream",
     "text": [
      "Piper Perri\n",
      "Kendra Surrderland\n"
     ]
    }
   ],
   "source": [
    "!type test.txt"
   ]
  },
  {
   "cell_type": "code",
   "execution_count": 64,
   "metadata": {},
   "outputs": [],
   "source": [
    "f = open('test.txt','r')"
   ]
  },
  {
   "cell_type": "code",
   "execution_count": 65,
   "metadata": {},
   "outputs": [],
   "source": [
    "H = f.readlines()"
   ]
  },
  {
   "cell_type": "code",
   "execution_count": 66,
   "metadata": {},
   "outputs": [
    {
     "data": {
      "text/plain": [
       "<function TextIOWrapper.close()>"
      ]
     },
     "execution_count": 66,
     "metadata": {},
     "output_type": "execute_result"
    }
   ],
   "source": [
    "f.close"
   ]
  },
  {
   "cell_type": "code",
   "execution_count": 67,
   "metadata": {},
   "outputs": [
    {
     "data": {
      "text/plain": [
       "['Piper Perri\\n', 'Kendra Surrderland\\n']"
      ]
     },
     "execution_count": 67,
     "metadata": {},
     "output_type": "execute_result"
    }
   ],
   "source": [
    "H"
   ]
  },
  {
   "cell_type": "code",
   "execution_count": 74,
   "metadata": {},
   "outputs": [],
   "source": [
    "po = H[0].rstrip(\"\\n\")"
   ]
  },
  {
   "cell_type": "code",
   "execution_count": 75,
   "metadata": {},
   "outputs": [
    {
     "data": {
      "text/plain": [
       "'Piper Perri'"
      ]
     },
     "execution_count": 75,
     "metadata": {},
     "output_type": "execute_result"
    }
   ],
   "source": [
    "po"
   ]
  },
  {
   "cell_type": "code",
   "execution_count": 76,
   "metadata": {},
   "outputs": [
    {
     "data": {
      "text/plain": [
       "['Piper Perri', 'Kendra Surrderland']"
      ]
     },
     "execution_count": 76,
     "metadata": {},
     "output_type": "execute_result"
    }
   ],
   "source": [
    "poo = [H[i].rstrip(\"\\n\")  for i in range(2)]\n",
    "poo"
   ]
  },
  {
   "cell_type": "code",
   "execution_count": null,
   "metadata": {},
   "outputs": [],
   "source": []
  }
 ],
 "metadata": {
  "kernelspec": {
   "display_name": "Python 3",
   "language": "python",
   "name": "python3"
  },
  "language_info": {
   "codemirror_mode": {
    "name": "ipython",
    "version": 3
   },
   "file_extension": ".py",
   "mimetype": "text/x-python",
   "name": "python",
   "nbconvert_exporter": "python",
   "pygments_lexer": "ipython3",
   "version": "3.7.1"
  }
 },
 "nbformat": 4,
 "nbformat_minor": 2
}
