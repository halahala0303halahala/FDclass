{
 "cells": [
  {
   "cell_type": "code",
   "execution_count": 1,
   "metadata": {},
   "outputs": [],
   "source": [
    "%matplotlib inline\n",
    "\n",
    "import numpy as np\n",
    "import matplotlib.pyplot as plt\n",
    "import pandas as pd\n",
    "from ipywidgets import interact"
   ]
  },
  {
   "cell_type": "markdown",
   "metadata": {},
   "source": [
    "### 喬時間"
   ]
  },
  {
   "cell_type": "code",
   "execution_count": 61,
   "metadata": {},
   "outputs": [],
   "source": [
    "date = {'mons':0,'mone':1440,'tues':0,'tuee':1440,'wens':0,'wene':1440,'thus':0,'thue':1440,'fris':0,'frie':1440,'sats':0,'sate':1440,'suns':0,'sune':1440}\n",
    "week = ['星期一','星期二','星期三','星期四','星期五','星期六','星期日']"
   ]
  },
  {
   "cell_type": "code",
   "execution_count": 62,
   "metadata": {},
   "outputs": [],
   "source": [
    "def sch(x,y,z):\n",
    "    if x == '一':\n",
    "        if y >= date['mone'] or z <= date['mons']:\n",
    "            date['mons'] = 'X'\n",
    "            date['mone'] = 'X'\n",
    "        else:\n",
    "            date['mons'] = max(date['mons'],y)\n",
    "            date['mone'] = min(date['mone'],z) \n",
    "    elif x == '二':\n",
    "        if y >= date['tuee'] or z <= date['tues']:\n",
    "            date['tues'] = 'X'\n",
    "            date['tuee'] = 'X'\n",
    "        else:\n",
    "            date['tues'] = max(date['tues'],y)\n",
    "            date['tuee'] = min(date['tuee'],z) \n",
    "    elif x == '三':\n",
    "        if y >= date['wene'] or z <= date['wens']:\n",
    "            date['wens'] = 'X'\n",
    "            date['wene'] = 'X'\n",
    "        else:\n",
    "            date['wens'] = max(date['wens'],y)\n",
    "            date['wene'] = min(date['wene'],z) \n",
    "    elif x == '四':\n",
    "        if y >= date['thue'] or z <= date['thus']:\n",
    "            date['thus'] = 'X'\n",
    "            date['thue'] = 'X'\n",
    "        else:\n",
    "            date['thus'] = max(date['thus'],y)\n",
    "            date['thue'] = min(date['thue'],z) \n",
    "    elif x == '五':\n",
    "        if y >= date['frie'] or z <= date['fris']:\n",
    "            date['fris'] = 'X'\n",
    "            date['frie'] = 'X'\n",
    "        else:\n",
    "            date['fris'] = max(date['fris'],y)\n",
    "            date['frie'] = min(date['frie'],z) \n",
    "    elif x == '六':\n",
    "        if y >= date['sate'] or z <= date['sats']:\n",
    "            date['sats'] = 'X'\n",
    "            date['sate'] = 'X'\n",
    "        else:\n",
    "            date['sats'] = max(date['sats'],y)\n",
    "            date['sate'] = min(date['sate'],z) \n",
    "    elif x == '日':\n",
    "        if y >= date['sune'] or z <= date['suns']:\n",
    "            date['suns'] = 'X'\n",
    "            date['sune'] = 'X'\n",
    "        else:\n",
    "            date['suns'] = max(date['suns'],y)\n",
    "            date['sune'] = min(date['sune'],z)\n",
    "    else:\n",
    "        print(\"輸入錯誤\")\n",
    "def  Date(x0,x1,x2,x3,x4):\n",
    "    D = [x0,60*int(x1)+int(x2),60*int(x3)+int(x4)]\n",
    "    return D\n",
    "def showdate(x):\n",
    "    if x == '星期一':\n",
    "        if date['mons'] == 'X' or date['mone'] == 'X':\n",
    "            print(f'{x}不能約')\n",
    "        else:\n",
    "            x0 = date['mons']//60\n",
    "            x1 = date['mons']%60\n",
    "            x2 = date['mone']//60\n",
    "            x3 = date['mone']%60\n",
    "            print(f'本周 {x} {x0}點{x1}分至{x2}點{x3}分可約')\n",
    "        \n",
    "    if x == '星期二':\n",
    "        if date['tues'] == 'X' or date['tuee'] == 'X':\n",
    "            print(f'{x}不能約')\n",
    "        else:\n",
    "            x0 = date['tues']//60\n",
    "            x1 = date['tues']%60\n",
    "            x2 = date['tuee']//60\n",
    "            x3 = date['tuee']%60\n",
    "        print(f'本周 {x} {x0}點{x1}分至{x2}點{x3}分可約')\n",
    "    if x == '星期三':\n",
    "        if date['wens'] == 'X' or date['wene'] == 'X':\n",
    "            print(f'{x}不能約')\n",
    "        else:\n",
    "            x0 = date['wens']//60\n",
    "            x1 = date['wens']%60\n",
    "            x2 = date['wene']//60\n",
    "            x3 = date['wene']%60\n",
    "            print(f'本周 {x} {x0}點{x1}分至{x2}點{x3}分可約')\n",
    "    if x == '星期四':\n",
    "        if date['thus'] == 'X' or date['thue'] == 'X':\n",
    "            print(f'{x}不能約')\n",
    "        else:\n",
    "            x0 = date['thus']//60\n",
    "            x1 = date['thus']%60\n",
    "            x2 = date['thue']//60\n",
    "            x3 = date['thue']%60\n",
    "            print(f'本周 {x} {x0}點{x1}分至{x2}點{x3}分可約')\n",
    "    if x == '星期五':\n",
    "        if date['fris'] == 'X' or date['frie'] == 'X':\n",
    "            print(f'{x}不能約')\n",
    "        else:\n",
    "            x0 = date['fris']//60\n",
    "            x1 = date['fris']%60\n",
    "            x2 = date['frie']//60\n",
    "            x3 = date['frie']%60\n",
    "            print(f'本周 {x} {x0}點{x1}分至{x2}點{x3}分可約')\n",
    "    if x == '星期六':\n",
    "        if date['sats'] == 'X' or date['sate'] == 'X':\n",
    "            print(f'{x}不能約')\n",
    "        else:\n",
    "            x0 = date['sats']//60\n",
    "            x1 = date['sats']%60\n",
    "            x2 = date['sate']//60\n",
    "            x3 = date['sate']%60\n",
    "            print(f'本周 {x} {x0}點{x1}分至{x2}點{x3}分可約')\n",
    "    if x == '星期日':\n",
    "        if date['suns'] == 'X' or date['sune'] == 'X':\n",
    "            print(f'{x}不能約')\n",
    "        else:\n",
    "            x0 = date['suns']//60\n",
    "            x1 = date['suns']%60\n",
    "            x2 = date['sune']//60\n",
    "            x3 = date['sune']%60\n",
    "            print(f'本周 {x} {x0}點{x1}分至{x2}點{x3}分可約')\n",
    "    \n",
    "    "
   ]
  },
  {
   "cell_type": "code",
   "execution_count": 63,
   "metadata": {},
   "outputs": [
    {
     "name": "stdout",
     "output_type": "stream",
     "text": [
      "請輸入日期(星期__/__點/__分/至__點/__分)一/6/50/9/48\n",
      "是否繼續輸入?(Yes/NO)Yes\n",
      "請輸入日期(星期__/__點/__分/至__點/__分)一/14/0/15/9\n",
      "是否繼續輸入?(Yes/NO)Yes\n",
      "請輸入日期(星期__/__點/__分/至__點/__分)日/12/0/16/0\n",
      "是否繼續輸入?(Yes/NO)NO\n"
     ]
    },
    {
     "data": {
      "application/vnd.jupyter.widget-view+json": {
       "model_id": "93cc9e6e90294e6892c10203a2d68695",
       "version_major": 2,
       "version_minor": 0
      },
      "text/plain": [
       "interactive(children=(Dropdown(description='x', options=('星期一', '星期二', '星期三', '星期四', '星期五', '星期六', '星期日'), val…"
      ]
     },
     "metadata": {},
     "output_type": "display_data"
    },
    {
     "data": {
      "text/plain": [
       "<function __main__.showdate(x)>"
      ]
     },
     "execution_count": 63,
     "metadata": {},
     "output_type": "execute_result"
    }
   ],
   "source": [
    "newdate = 'y'\n",
    "while newdate != 'NO':\n",
    "    x0,x1,x2,x3,x4 = input(\"請輸入日期(星期__/__點/__分/至__點/__分)\").split(\"/\")\n",
    "    D =  Date(x0,x1,x2,x3,x4)\n",
    "    sch(D[0],D[1],D[2])\n",
    "    newdate = input(\"是否繼續輸入?(Yes/NO)\")\n",
    "interact(showdate,x = week)"
   ]
  },
  {
   "cell_type": "markdown",
   "metadata": {},
   "source": [
    "### 找質數"
   ]
  },
  {
   "cell_type": "code",
   "execution_count": 64,
   "metadata": {},
   "outputs": [
    {
     "name": "stdout",
     "output_type": "stream",
     "text": [
      "500\n",
      "[2, 3, 5, 7, 11, 13, 17, 19, 23, 29, 31, 37, 41, 43, 47, 53, 59, 61, 67, 71, 73, 79, 83, 89, 97, 101, 103, 107, 109, 113, 127, 131, 137, 139, 149, 151, 157, 163, 167, 173, 179, 181, 191, 193, 197, 199, 211, 223, 227, 229, 233, 239, 241, 251, 257, 263, 269, 271, 277, 281, 283, 293, 307, 311, 313, 317, 331, 337, 347, 349, 353, 359, 367, 373, 379, 383, 389, 397, 401, 409, 419, 421, 431, 433, 439, 443, 449, 457, 461, 463, 467, 479, 487, 491, 499]\n"
     ]
    }
   ],
   "source": [
    "pn = []\n",
    "nop = int(input())\n",
    "for i in range(2,nop+1):\n",
    "    k = 0\n",
    "    for j in range(2,nop+1):\n",
    "        if i%j == 0:\n",
    "            k = k+1\n",
    "    if k ==1:\n",
    "        pn = pn + [i]\n",
    "print(pn)"
   ]
  },
  {
   "cell_type": "markdown",
   "metadata": {},
   "source": [
    "### 移動大眼"
   ]
  },
  {
   "cell_type": "code",
   "execution_count": 65,
   "metadata": {},
   "outputs": [],
   "source": [
    "def eye(c,d):\n",
    "    r1 = 40\n",
    "    a, b =(0,0)\n",
    "    t = np.arange(0, 2*np.pi, 0.01)\n",
    "    x1 = a+r1 * np.cos(t)\n",
    "    y1 = b+r1 * np.sin(t)\n",
    "    for r2 in range(0,10):\n",
    "        x2 = c+r2 * np.cos(t)\n",
    "        y2 = d+r2 * np.sin(t)\n",
    "        plt.plot(x2,y2,\"red\")\n",
    "    plt.plot(x1,y1,\"black\")\n",
    "\n",
    "    plt.axis('equal')\n"
   ]
  },
  {
   "cell_type": "code",
   "execution_count": 66,
   "metadata": {},
   "outputs": [
    {
     "data": {
      "application/vnd.jupyter.widget-view+json": {
       "model_id": "4dce6ff3ab964429a8c4bc0eaff335f6",
       "version_major": 2,
       "version_minor": 0
      },
      "text/plain": [
       "interactive(children=(Dropdown(description='c', options=(-20, -19, -18, -17, -16, -15, -14, -13, -12, -11, -10…"
      ]
     },
     "metadata": {},
     "output_type": "display_data"
    },
    {
     "data": {
      "text/plain": [
       "<function __main__.eye(c, d)>"
      ]
     },
     "execution_count": 66,
     "metadata": {},
     "output_type": "execute_result"
    }
   ],
   "source": [
    "interact(eye, c = range(-20,21), d = range(-20,21))"
   ]
  },
  {
   "cell_type": "code",
   "execution_count": 33,
   "metadata": {},
   "outputs": [
    {
     "data": {
      "text/plain": [
       "28.2842712474619"
      ]
     },
     "execution_count": 33,
     "metadata": {},
     "output_type": "execute_result"
    }
   ],
   "source": [
    "40/(2**(1/2))"
   ]
  },
  {
   "cell_type": "markdown",
   "metadata": {},
   "source": [
    "### 十八啦"
   ]
  },
  {
   "cell_type": "code",
   "execution_count": 57,
   "metadata": {},
   "outputs": [
    {
     "name": "stdout",
     "output_type": "stream",
     "text": [
      "莊家點數為9點\n"
     ]
    }
   ],
   "source": [
    "d1 = np.random.randint(1, 7, size=4)\n",
    "dl1 = d1.tolist() \n",
    "B = 0\n",
    "for i in range(1,7):\n",
    "    if dl1.count(i) == 2:\n",
    "        B = B + i\n",
    "        dl1.remove(i)\n",
    "        dl1.remove(i)\n",
    "    elif dl1.count(i) == 4:\n",
    "        B = 2*i\n",
    "        dl1.remove(i)\n",
    "        dl1.remove(i)\n",
    "if len(dl1) == 2:\n",
    "    dl1.sort()\n",
    "    B = B + dl1[1]\n",
    "    print(f'莊家點數為{B}點')\n",
    "else:\n",
    "    print(\"沒點,重骰\")\n"
   ]
  },
  {
   "cell_type": "code",
   "execution_count": 59,
   "metadata": {},
   "outputs": [
    {
     "name": "stdout",
     "output_type": "stream",
     "text": [
      "閒家點數為10點\n"
     ]
    }
   ],
   "source": [
    "d2 = np.random.randint(1, 7, size=4)\n",
    "dl2 = d2.tolist() \n",
    "P = 0\n",
    "for i in range(1,7):\n",
    "    if dl2.count(i) == 2:\n",
    "        P = P + i\n",
    "        dl2.remove(i)\n",
    "        dl2.remove(i)\n",
    "    elif dl2.count(i) == 4:\n",
    "        P = 2*i\n",
    "        dl2.remove(i)\n",
    "        dl2.remove(i)\n",
    "if len(dl2) == 2:\n",
    "    dl2.sort()\n",
    "    P = P + dl2[1]\n",
    "    print(f'閒家點數為{P}點')\n",
    "else:\n",
    "    print(\"沒點,重骰\")\n"
   ]
  },
  {
   "cell_type": "code",
   "execution_count": 60,
   "metadata": {},
   "outputs": [
    {
     "name": "stdout",
     "output_type": "stream",
     "text": [
      "閒家獲勝，你贏了\n"
     ]
    }
   ],
   "source": [
    "if B > P:\n",
    "    print(\"莊家獲勝，你輸了\")\n",
    "elif B < P:\n",
    "    print(\"閒家獲勝，你贏了\")\n",
    "elif B == P:\n",
    "    print(\"和局\")"
   ]
  },
  {
   "cell_type": "code",
   "execution_count": null,
   "metadata": {},
   "outputs": [],
   "source": []
  }
 ],
 "metadata": {
  "kernelspec": {
   "display_name": "Python 3",
   "language": "python",
   "name": "python3"
  },
  "language_info": {
   "codemirror_mode": {
    "name": "ipython",
    "version": 3
   },
   "file_extension": ".py",
   "mimetype": "text/x-python",
   "name": "python",
   "nbconvert_exporter": "python",
   "pygments_lexer": "ipython3",
   "version": "3.7.1"
  }
 },
 "nbformat": 4,
 "nbformat_minor": 2
}
