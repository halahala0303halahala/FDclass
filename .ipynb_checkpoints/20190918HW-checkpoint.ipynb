{
 "cells": [
  {
   "cell_type": "code",
   "execution_count": 1,
   "metadata": {},
   "outputs": [],
   "source": [
    "%matplotlib inline\n",
    "\n",
    "import numpy as np\n",
    "import matplotlib.pyplot as plt\n",
    "import pandas as pd"
   ]
  },
  {
   "cell_type": "code",
   "execution_count": 2,
   "metadata": {},
   "outputs": [],
   "source": [
    "from ipywidgets import interact"
   ]
  },
  {
   "cell_type": "code",
   "execution_count": 3,
   "metadata": {},
   "outputs": [],
   "source": [
    "def f(x):\n",
    "    y = np.random.randint(1,4)\n",
    "    z = {\"石頭\":1,\"剪刀\":2,\"布\":3}\n",
    "    if y == z[x]:\n",
    "        print(\"Draw\")\n",
    "    else:\n",
    "        if z[x] == 1:\n",
    "            if y == 2:\n",
    "                print(\"You win!\")\n",
    "            else:\n",
    "                print(\"You lose...\")\n",
    "        elif z[x] == 2:\n",
    "            if y == 3:\n",
    "                print(\"You win!\")\n",
    "            else:\n",
    "                print(\"You lose...\")\n",
    "        elif z[x] == 3:\n",
    "            if y == 1:\n",
    "                print(\"You win!\")\n",
    "            else:\n",
    "                print(\"You lose...\")"
   ]
  },
  {
   "cell_type": "code",
   "execution_count": 4,
   "metadata": {},
   "outputs": [
    {
     "data": {
      "application/vnd.jupyter.widget-view+json": {
       "model_id": "a84e924af6264603a7a38658b54f98fd",
       "version_major": 2,
       "version_minor": 0
      },
      "text/plain": [
       "interactive(children=(Dropdown(description='x', options=('石頭', '剪刀', '布'), value='石頭'), Output()), _dom_classe…"
      ]
     },
     "metadata": {},
     "output_type": "display_data"
    },
    {
     "data": {
      "text/plain": [
       "<function __main__.f(x)>"
      ]
     },
     "execution_count": 4,
     "metadata": {},
     "output_type": "execute_result"
    }
   ],
   "source": [
    "interact(f,x=[\"石頭\",\"剪刀\",\"布\"])"
   ]
  },
  {
   "cell_type": "code",
   "execution_count": null,
   "metadata": {},
   "outputs": [],
   "source": [
    "def g():\n",
    "    print(\"歡迎來到終極密碼，請輸入一個1~100間的數字\")\n",
    "    x = np.random.randint(1,101)\n",
    "    y = 0\n",
    "    while y != x:\n",
    "        y = input(\"請輸入數字:\")\n",
    "        if int(y) <  x:\n",
    "            print(\"答案大於%f,在猜猜看\" % int(y) )\n",
    "        elif int(y) > x:\n",
    "             print(\"答案小於%f,在猜猜看\" % int(y) )\n",
    "        else:\n",
    "            print(\"答對了!!!\")\n"
   ]
  },
  {
   "cell_type": "code",
   "execution_count": null,
   "metadata": {},
   "outputs": [],
   "source": [
    "g()"
   ]
  },
  {
   "cell_type": "code",
   "execution_count": null,
   "metadata": {},
   "outputs": [],
   "source": []
  }
 ],
 "metadata": {
  "kernelspec": {
   "display_name": "Python 3",
   "language": "python",
   "name": "python3"
  },
  "language_info": {
   "codemirror_mode": {
    "name": "ipython",
    "version": 3
   },
   "file_extension": ".py",
   "mimetype": "text/x-python",
   "name": "python",
   "nbconvert_exporter": "python",
   "pygments_lexer": "ipython3",
   "version": "3.7.1"
  }
 },
 "nbformat": 4,
 "nbformat_minor": 2
}
