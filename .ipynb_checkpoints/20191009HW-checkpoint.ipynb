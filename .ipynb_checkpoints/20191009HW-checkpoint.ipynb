{
 "cells": [
  {
   "cell_type": "code",
   "execution_count": 1,
   "metadata": {},
   "outputs": [],
   "source": [
    "%matplotlib inline\n",
    "import numpy as np\n",
    "import matplotlib.pyplot as plt\n",
    "import pandas as pd\n",
    "from ipywidgets import interact\n",
    "from ipywidgets import interact_manual"
   ]
  },
  {
   "cell_type": "markdown",
   "metadata": {},
   "source": [
    "## 發票"
   ]
  },
  {
   "cell_type": "code",
   "execution_count": 36,
   "metadata": {},
   "outputs": [
    {
     "name": "stdout",
     "output_type": "stream",
     "text": [
      "本期特別獎號碼為:45698621\n",
      "本期特獎號碼為:19614436\n",
      "本期頭獎號碼1為:96182420\n",
      "本期頭獎號碼2為:47464012\n",
      "本期頭獎號碼3為:62781818\n",
      "本期增開六獎號碼1為:928\n",
      "本期增開六獎號碼2為:899\n"
     ]
    }
   ],
   "source": [
    "recss = (input(\"本期特別獎號碼為:\"))\n",
    "recs = (input(\"本期特獎號碼為:\"))\n",
    "rec1 = (input(\"本期頭獎號碼1為:\"))\n",
    "rec2 = (input(\"本期頭獎號碼2為:\"))\n",
    "rec3 = (input(\"本期頭獎號碼3為:\"))\n",
    "rec4 = (input(\"本期增開六獎號碼1為:\"))\n",
    "rec5 = (input(\"本期增開六獎號碼2為:\"))"
   ]
  },
  {
   "cell_type": "code",
   "execution_count": 68,
   "metadata": {},
   "outputs": [
    {
     "name": "stdout",
     "output_type": "stream",
     "text": [
      "45698621\n",
      "恭喜你!共得10000000元\n"
     ]
    }
   ],
   "source": [
    "rec = input(\"\")\n",
    "rec = rec.split(\",\")\n",
    "money = 0\n",
    "for i in rec:\n",
    "    if i == recss:\n",
    "        money = money + 10000000\n",
    "for i in rec:\n",
    "    if i == recs:\n",
    "        money = money + 2000000\n",
    "for i in rec:\n",
    "    if i == rec1:\n",
    "        money = money + 200000\n",
    "    elif i[1:] == rec1[1:]:\n",
    "        money = money + 40000\n",
    "    elif i[2:] == rec1[2:]:\n",
    "        money = money + 10000\n",
    "    elif i[3:] == rec1[3:]:\n",
    "        money = money + 4000\n",
    "    elif i[4:] == rec1[4:]:\n",
    "        money = money + 1000\n",
    "    elif i[5:] == rec1[5:]:\n",
    "        money = money + 200\n",
    "for i in rec:\n",
    "    if i == rec2:\n",
    "        money = money + 200000\n",
    "    elif i[1:] == rec2[1:]:\n",
    "        money = money + 40000\n",
    "    elif i[2:] == rec2[2:]:\n",
    "        money = money + 10000\n",
    "    elif i[3:] == rec2[3:]:\n",
    "        money = money + 4000\n",
    "    elif i[4:] == rec2[4:]:\n",
    "        money = money + 1000\n",
    "    elif i[5:] == rec2[5:]:\n",
    "        money = money + 200\n",
    "for i in rec:\n",
    "    if i == rec3:\n",
    "        money = money + 200000\n",
    "    elif i[1:] == rec3[1:]:\n",
    "        money = money + 40000\n",
    "    elif i[2:] == rec3[2:]:\n",
    "        money = money + 10000\n",
    "    elif i[3:] == rec3[3:]:\n",
    "        money = money + 4000\n",
    "    elif i[4:] == rec3[4:]:\n",
    "        money = money + 1000\n",
    "    elif i[5:] == rec3[5:]:\n",
    "        money = money + 200\n",
    "for i in rec:\n",
    "    if i[5:] == rec4:\n",
    "        money = money + 200\n",
    "for i in rec:\n",
    "    if i[5:] == rec5:\n",
    "        money = money + 200\n",
    "if money == 0:\n",
    "    print(\"太可惜ㄌ，全部摃龜~\")\n",
    "else:\n",
    "    print(\"恭喜你!共得\"+str(money)+\"元\")    "
   ]
  },
  {
   "cell_type": "markdown",
   "metadata": {},
   "source": []
  },
  {
   "cell_type": "code",
   "execution_count": 78,
   "metadata": {
    "scrolled": true
   },
   "outputs": [
    {
     "ename": "TypeError",
     "evalue": "unsupported operand type(s) for ** or pow(): 'range' and 'int'",
     "output_type": "error",
     "traceback": [
      "\u001b[1;31m-------------------------------------------------------------------\u001b[0m",
      "\u001b[1;31mTypeError\u001b[0m                         Traceback (most recent call last)",
      "\u001b[1;32m<ipython-input-78-a516c40ad8a6>\u001b[0m in \u001b[0;36m<module>\u001b[1;34m\u001b[0m\n\u001b[0;32m      1\u001b[0m \u001b[0mx\u001b[0m \u001b[1;33m=\u001b[0m \u001b[0mrange\u001b[0m\u001b[1;33m(\u001b[0m\u001b[1;36m0\u001b[0m\u001b[1;33m,\u001b[0m\u001b[1;36m40\u001b[0m\u001b[1;33m)\u001b[0m\u001b[1;33m\u001b[0m\u001b[1;33m\u001b[0m\u001b[0m\n\u001b[1;32m----> 2\u001b[1;33m \u001b[0my\u001b[0m \u001b[1;33m=\u001b[0m \u001b[0mx\u001b[0m\u001b[1;33m**\u001b[0m\u001b[1;36m2\u001b[0m\u001b[1;33m\u001b[0m\u001b[1;33m\u001b[0m\u001b[0m\n\u001b[0m\u001b[0;32m      3\u001b[0m \u001b[0mplt\u001b[0m\u001b[1;33m(\u001b[0m\u001b[0mx\u001b[0m\u001b[1;33m,\u001b[0m\u001b[0my\u001b[0m\u001b[1;33m)\u001b[0m\u001b[1;33m\u001b[0m\u001b[1;33m\u001b[0m\u001b[0m\n",
      "\u001b[1;31mTypeError\u001b[0m: unsupported operand type(s) for ** or pow(): 'range' and 'int'"
     ]
    }
   ],
   "source": []
  },
  {
   "cell_type": "code",
   "execution_count": 76,
   "metadata": {},
   "outputs": [],
   "source": []
  },
  {
   "cell_type": "code",
   "execution_count": null,
   "metadata": {},
   "outputs": [],
   "source": []
  }
 ],
 "metadata": {
  "kernelspec": {
   "display_name": "Python 3",
   "language": "python",
   "name": "python3"
  },
  "language_info": {
   "codemirror_mode": {
    "name": "ipython",
    "version": 3
   },
   "file_extension": ".py",
   "mimetype": "text/x-python",
   "name": "python",
   "nbconvert_exporter": "python",
   "pygments_lexer": "ipython3",
   "version": "3.7.1"
  }
 },
 "nbformat": 4,
 "nbformat_minor": 2
}
