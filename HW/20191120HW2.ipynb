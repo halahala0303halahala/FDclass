{
 "cells": [
  {
   "cell_type": "markdown",
   "metadata": {},
   "source": [
    "## 單字庫\n",
    "自制英翻中字典，隨使用者輸入可不斷增加的英文單字庫，有查詢功能。"
   ]
  },
  {
   "cell_type": "code",
   "execution_count": 1,
   "metadata": {},
   "outputs": [],
   "source": [
    "%matplotlib inline\n",
    "\n",
    "import numpy as np\n",
    "import matplotlib.pyplot as plt\n",
    "import pandas as pd"
   ]
  },
  {
   "cell_type": "code",
   "execution_count": 3,
   "metadata": {},
   "outputs": [],
   "source": [
    "import pickle"
   ]
  },
  {
   "cell_type": "code",
   "execution_count": 8,
   "metadata": {},
   "outputs": [],
   "source": [
    "###讀取字典檔\n",
    "f = open(\"word_dic.pickle\", 'rb')"
   ]
  },
  {
   "cell_type": "code",
   "execution_count": 9,
   "metadata": {},
   "outputs": [],
   "source": [
    "word_dic = pickle.load(f)"
   ]
  },
  {
   "cell_type": "code",
   "execution_count": 10,
   "metadata": {},
   "outputs": [],
   "source": [
    "f.close()"
   ]
  },
  {
   "cell_type": "code",
   "execution_count": 11,
   "metadata": {},
   "outputs": [
    {
     "name": "stdout",
     "output_type": "stream",
     "text": [
      "請輸入英文:hi\n",
      "查無此字\n",
      "請輸入中文:嗨\n",
      "是否繼續查詢(y/n)y\n",
      "請輸入英文:yo\n",
      "查無此字\n",
      "請輸入中文:喲\n",
      "是否繼續查詢(y/n)y\n",
      "請輸入英文:Yo\n",
      "Yo的中文是喲\n",
      "是否繼續查詢(y/n)n\n"
     ]
    }
   ],
   "source": [
    "##輸入英文會跑出之前記錄的中文翻譯，如果是生字，可以將新單字輸入單字庫\n",
    "while (True) :\n",
    "    word = input(\"請輸入英文:\")\n",
    "    wordL = word.lower()\n",
    "    if wordL in word_dic:\n",
    "        Ch = word_dic.get(wordL)\n",
    "        print(f'{word}的中文是{Ch}') \n",
    "        if input(\"是否繼續查詢(y/n)\") == \"y\":\n",
    "            continue\n",
    "        else:\n",
    "            break\n",
    "    else:\n",
    "        print(\"查無此字\")\n",
    "        word_dic[wordL] = input(\"請輸入中文:\")\n",
    "        if input(\"是否繼續查詢(y/n)\") == \"y\":\n",
    "            continue\n",
    "        else:\n",
    "            break"
   ]
  },
  {
   "cell_type": "code",
   "execution_count": 12,
   "metadata": {},
   "outputs": [],
   "source": [
    "##存取新增後的字典檔\n",
    "f = open(\"word_dic.pickle\", 'wb')"
   ]
  },
  {
   "cell_type": "code",
   "execution_count": 13,
   "metadata": {},
   "outputs": [],
   "source": [
    "pickle.dump(word_dic, f)"
   ]
  },
  {
   "cell_type": "code",
   "execution_count": 14,
   "metadata": {},
   "outputs": [],
   "source": [
    "f.close()"
   ]
  },
  {
   "cell_type": "code",
   "execution_count": null,
   "metadata": {},
   "outputs": [],
   "source": []
  }
 ],
 "metadata": {
  "kernelspec": {
   "display_name": "Python 3",
   "language": "python",
   "name": "python3"
  },
  "language_info": {
   "codemirror_mode": {
    "name": "ipython",
    "version": 3
   },
   "file_extension": ".py",
   "mimetype": "text/x-python",
   "name": "python",
   "nbconvert_exporter": "python",
   "pygments_lexer": "ipython3",
   "version": "3.7.1"
  }
 },
 "nbformat": 4,
 "nbformat_minor": 2
}
