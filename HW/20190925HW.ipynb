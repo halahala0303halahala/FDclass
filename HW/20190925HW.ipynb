{
 "cells": [
  {
   "cell_type": "code",
   "execution_count": 1,
   "metadata": {},
   "outputs": [],
   "source": [
    "%matplotlib inline\n",
    "\n",
    "import numpy as np\n",
    "import matplotlib.pyplot as plt"
   ]
  },
  {
   "cell_type": "code",
   "execution_count": 2,
   "metadata": {},
   "outputs": [],
   "source": [
    "import random"
   ]
  },
  {
   "cell_type": "code",
   "execution_count": 3,
   "metadata": {},
   "outputs": [],
   "source": [
    "from ipywidgets import interact"
   ]
  },
  {
   "cell_type": "markdown",
   "metadata": {},
   "source": [
    "### Avalon "
   ]
  },
  {
   "cell_type": "code",
   "execution_count": 78,
   "metadata": {},
   "outputs": [],
   "source": [
    "def ava(x=10):\n",
    "    a = [\"梅林\",\"派西維爾\",\"亞瑟的忠臣\",\"刺客\",\"魔甘娜\"]\n",
    "    b = [\"亞瑟的忠臣\"] \n",
    "    c = [\"默德雷德\"]\n",
    "    d = [\"奧伯龍\"]\n",
    "    e = [\"默德雷德的爪牙\"]\n",
    "    if int(x) >= 10:\n",
    "        a = a+b+b+b+c+d\n",
    "    elif int(x) >= 9 and x < 10:\n",
    "        a = a+b+b+b+c\n",
    "    elif int(x) >= 8 and x < 9:\n",
    "        a = a+b+b+e\n",
    "    elif int(x) >= 7 and x < 8:\n",
    "        a = a+b+d\n",
    "    elif int(x) >= 6 and x < 7:\n",
    "        a = a+b\n",
    "    else:\n",
    "        a = a\n",
    "    random.shuffle(a)\n",
    "    return a"
   ]
  },
  {
   "cell_type": "code",
   "execution_count": 86,
   "metadata": {},
   "outputs": [],
   "source": [
    "def ava1(x):\n",
    "    m = game[x-1]\n",
    "    return m"
   ]
  },
  {
   "cell_type": "code",
   "execution_count": 112,
   "metadata": {},
   "outputs": [
    {
     "name": "stdout",
     "output_type": "stream",
     "text": [
      "遊玩人數:10\n"
     ]
    },
    {
     "data": {
      "application/vnd.jupyter.widget-view+json": {
       "model_id": "b53d3a9aa7be490382ad7c1aeee66989",
       "version_major": 2,
       "version_minor": 0
      },
      "text/plain": [
       "interactive(children=(IntSlider(value=5, description='x', max=10, min=1), Output()), _dom_classes=('widget-int…"
      ]
     },
     "metadata": {},
     "output_type": "display_data"
    }
   ],
   "source": [
    "k = input(\"遊玩人數:\")\n",
    "game = ava(k)\n",
    "interact(ava1,x =(1,int(k)));"
   ]
  },
  {
   "cell_type": "markdown",
   "metadata": {},
   "source": [
    "### 變臉"
   ]
  },
  {
   "cell_type": "code",
   "execution_count": 143,
   "metadata": {
    "scrolled": false
   },
   "outputs": [],
   "source": [
    "def face(x,y,z):\n",
    "    print(eye[int(x)])\n",
    "    print(nose[int(y)])\n",
    "    print(mouth[int(z)])\n"
   ]
  },
  {
   "cell_type": "code",
   "execution_count": 148,
   "metadata": {},
   "outputs": [],
   "source": [
    "eye = [\" o o\",\" . .\",\" O　O\",\" = =\",\" A A\"]\n",
    "nose = [\"  ▲\",\"  ↓\",\"  ∠\",\"  ∞\"]\n",
    "mouth = [\"  _ \",\"  3\",\"  ∀ \",\"  Д \",\"  ^\"]"
   ]
  },
  {
   "cell_type": "code",
   "execution_count": 144,
   "metadata": {},
   "outputs": [
    {
     "name": "stdout",
     "output_type": "stream",
     "text": [
      " o o \n",
      "  ▲  \n",
      "  _  \n"
     ]
    }
   ],
   "source": [
    "face(0,0,0)"
   ]
  },
  {
   "cell_type": "code",
   "execution_count": 150,
   "metadata": {},
   "outputs": [
    {
     "data": {
      "application/vnd.jupyter.widget-view+json": {
       "model_id": "5cc90db623004bd89267744b4b5e985d",
       "version_major": 2,
       "version_minor": 0
      },
      "text/plain": [
       "interactive(children=(IntSlider(value=2, description='x', max=4), IntSlider(value=1, description='y', max=3), …"
      ]
     },
     "metadata": {},
     "output_type": "display_data"
    }
   ],
   "source": [
    "interact(face,x = (0,4),y = (0,3),z = (0,4));"
   ]
  },
  {
   "cell_type": "markdown",
   "metadata": {},
   "source": [
    "### 抽卡模擬"
   ]
  },
  {
   "cell_type": "code",
   "execution_count": 5,
   "metadata": {},
   "outputs": [
    {
     "name": "stdout",
     "output_type": "stream",
     "text": [
      "請輸入配率(%):1\n",
      "大概688抽就可以抽到囉!\n"
     ]
    }
   ],
   "source": [
    "p = input(\"請輸入配率(%):\")\n",
    "dt = list(range(1,1000))\n",
    "for t in dt:\n",
    "    lucky = (1-0.01*float(p))**t\n",
    "    if lucky <= 0.001:\n",
    "        print(\"大概%d抽就可以抽到囉!\" % t)\n",
    "        break"
   ]
  },
  {
   "cell_type": "markdown",
   "metadata": {},
   "source": [
    "### 佳味"
   ]
  },
  {
   "cell_type": "code",
   "execution_count": 23,
   "metadata": {},
   "outputs": [],
   "source": [
    "def jjj(x):\n",
    "    J = int(x)//120\n",
    "    JJ = int(x)-120*31\n",
    "    if J < 31:\n",
    "        print(\"你的佳味指數為%d，表示你能靠佳味活%d天\" % (J,J))\n",
    "    else:\n",
    "        print(\"你不靠佳味也能活過這個月，都吃佳味能存%d元\" % JJ)"
   ]
  },
  {
   "cell_type": "code",
   "execution_count": 25,
   "metadata": {},
   "outputs": [
    {
     "data": {
      "application/vnd.jupyter.widget-view+json": {
       "model_id": "aa6e26166d3544529d5d11a23e8c6f58",
       "version_major": 2,
       "version_minor": 0
      },
      "text/plain": [
       "interactive(children=(IntSlider(value=5050, description='x', max=10000, min=100), Output()), _dom_classes=('wi…"
      ]
     },
     "metadata": {},
     "output_type": "display_data"
    }
   ],
   "source": [
    "interact(jjj,x = (100,10000));"
   ]
  },
  {
   "cell_type": "code",
   "execution_count": null,
   "metadata": {},
   "outputs": [],
   "source": []
  }
 ],
 "metadata": {
  "kernelspec": {
   "display_name": "Python 3",
   "language": "python",
   "name": "python3"
  },
  "language_info": {
   "codemirror_mode": {
    "name": "ipython",
    "version": 3
   },
   "file_extension": ".py",
   "mimetype": "text/x-python",
   "name": "python",
   "nbconvert_exporter": "python",
   "pygments_lexer": "ipython3",
   "version": "3.7.1"
  }
 },
 "nbformat": 4,
 "nbformat_minor": 2
}
