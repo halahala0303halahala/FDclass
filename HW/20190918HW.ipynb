{
 "cells": [
  {
   "cell_type": "code",
   "execution_count": 1,
   "metadata": {},
   "outputs": [],
   "source": [
    "%matplotlib inline\n",
    "\n",
    "import numpy as np\n",
    "import matplotlib.pyplot as plt\n",
    "import pandas as pd"
   ]
  },
  {
   "cell_type": "code",
   "execution_count": 2,
   "metadata": {},
   "outputs": [],
   "source": [
    "from ipywidgets import interact"
   ]
  },
  {
   "cell_type": "code",
   "execution_count": 3,
   "metadata": {},
   "outputs": [],
   "source": [
    "def f(x):\n",
    "    y = np.random.randint(1,4)\n",
    "    z = {\"石頭\":1,\"剪刀\":2,\"布\":3}\n",
    "    if y == z[x]:\n",
    "        print(\"Draw\")\n",
    "    else:\n",
    "        if z[x] == 1:\n",
    "            if y == 2:\n",
    "                print(\"You win!\")\n",
    "            else:\n",
    "                print(\"You lose...\")\n",
    "        elif z[x] == 2:\n",
    "            if y == 3:\n",
    "                print(\"You win!\")\n",
    "            else:\n",
    "                print(\"You lose...\")\n",
    "        elif z[x] == 3:\n",
    "            if y == 1:\n",
    "                print(\"You win!\")\n",
    "            else:\n",
    "                print(\"You lose...\")"
   ]
  },
  {
   "cell_type": "code",
   "execution_count": 4,
   "metadata": {},
   "outputs": [
    {
     "data": {
      "application/vnd.jupyter.widget-view+json": {
       "model_id": "93243af48502477a8fc00deecddbc184",
       "version_major": 2,
       "version_minor": 0
      },
      "text/plain": [
       "interactive(children=(Dropdown(description='x', options=('石頭', '剪刀', '布'), value='石頭'), Output()), _dom_classe…"
      ]
     },
     "metadata": {},
     "output_type": "display_data"
    },
    {
     "data": {
      "text/plain": [
       "<function __main__.f(x)>"
      ]
     },
     "execution_count": 4,
     "metadata": {},
     "output_type": "execute_result"
    }
   ],
   "source": [
    "interact(f,x=[\"石頭\",\"剪刀\",\"布\"])"
   ]
  },
  {
   "cell_type": "code",
   "execution_count": 5,
   "metadata": {},
   "outputs": [],
   "source": [
    "def g():\n",
    "    print(\"歡迎來到終極密碼，請輸入一個1~100間的數字\")\n",
    "    x = np.random.randint(1,101)\n",
    "    y = 0\n",
    "    while y != x:\n",
    "        y = input(\"請輸入數字:\")\n",
    "        if int(y) <  x:\n",
    "            print(\"答案大於%d,在猜猜看\" % int(y) )\n",
    "        elif int(y) > x:\n",
    "             print(\"答案小於%d,在猜猜看\" % int(y) )\n",
    "        else:\n",
    "            print(\"答對了!!!\")\n",
    "            break\n"
   ]
  },
  {
   "cell_type": "code",
   "execution_count": 6,
   "metadata": {},
   "outputs": [
    {
     "name": "stdout",
     "output_type": "stream",
     "text": [
      "歡迎來到終極密碼，請輸入一個1~100間的數字\n",
      "請輸入數字:50\n",
      "答案大於50,在猜猜看\n",
      "請輸入數字:60\n",
      "答案大於60,在猜猜看\n",
      "請輸入數字:70\n",
      "答案大於70,在猜猜看\n",
      "請輸入數字:80\n",
      "答案大於80,在猜猜看\n",
      "請輸入數字:90\n",
      "答案大於90,在猜猜看\n",
      "請輸入數字:95\n",
      "答案小於95,在猜猜看\n",
      "請輸入數字:93\n",
      "答案大於93,在猜猜看\n",
      "請輸入數字:94\n",
      "答對了!!!\n"
     ]
    }
   ],
   "source": [
    "g()"
   ]
  },
  {
   "cell_type": "code",
   "execution_count": 9,
   "metadata": {},
   "outputs": [],
   "source": [
    "def live():\n",
    "    x = float(input(\"本月剩餘預算:\"))\n",
    "    y = float(input(\"本月剩餘天數\"))\n",
    "    z = x//y\n",
    "    if x < 120*z:\n",
    "        print(\"窮到被鬼抓走，連佳味都吃不起\")\n",
    "    elif  x < 300*z:\n",
    "        print(\"還行，有錢買宵夜ㄌ\")\n",
    "    elif x < 600*z:\n",
    "        print(\"可以餐餐米塔，當個米塔仔\")\n",
    "    else:\n",
    "        print(\"可以離開政大，吃些真正的食物了\")\n",
    "    \n",
    "    "
   ]
  },
  {
   "cell_type": "code",
   "execution_count": 10,
   "metadata": {},
   "outputs": [
    {
     "name": "stdout",
     "output_type": "stream",
     "text": [
      "本月剩餘預算:1000\n",
      "本月剩餘天數6\n",
      "窮到被鬼抓走，連佳味都吃不起\n"
     ]
    }
   ],
   "source": [
    "live()"
   ]
  },
  {
   "cell_type": "code",
   "execution_count": null,
   "metadata": {},
   "outputs": [],
   "source": []
  }
 ],
 "metadata": {
  "kernelspec": {
   "display_name": "Python 3",
   "language": "python",
   "name": "python3"
  },
  "language_info": {
   "codemirror_mode": {
    "name": "ipython",
    "version": 3
   },
   "file_extension": ".py",
   "mimetype": "text/x-python",
   "name": "python",
   "nbconvert_exporter": "python",
   "pygments_lexer": "ipython3",
   "version": "3.7.1"
  }
 },
 "nbformat": 4,
 "nbformat_minor": 2
}
