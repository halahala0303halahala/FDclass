{
 "cells": [
  {
   "cell_type": "code",
   "execution_count": 1,
   "metadata": {},
   "outputs": [],
   "source": [
    "%matplotlib inline\n",
    "\n",
    "import numpy as np\n",
    "import matplotlib.pyplot as plt\n",
    "import pandas as  pd\n",
    "import sympy as sp"
   ]
  },
  {
   "cell_type": "code",
   "execution_count": 2,
   "metadata": {},
   "outputs": [],
   "source": [
    "def E(x):\n",
    "    lamda = len(list(x))/sum(list(x))\n",
    "    mean = 1/lamda\n",
    "    var = 1/lamda**2\n",
    "    return mean, var\n",
    "\n",
    "def G(x):\n",
    "    mean = sum(list(x))/len(list(x))\n",
    "    S = 0\n",
    "    for sample in list(x):\n",
    "        S = S + (sample-mean)**2\n",
    "    var = S/len(list(x))\n",
    "    return mean, var\n",
    "\n",
    "def P(x):\n",
    "    lamda = sum(list(x))/len(list(x))\n",
    "    mean = lamda\n",
    "    var = lamda\n",
    "    return mean, var\n",
    "\n",
    "def U(x):\n",
    "    a = min(list(x))\n",
    "    b = max(list(x))\n",
    "    mean = (a+b)/2\n",
    "    var = (b-a)**2/12\n",
    "    return mean, var"
   ]
  },
  {
   "cell_type": "code",
   "execution_count": 5,
   "metadata": {},
   "outputs": [
    {
     "name": "stdout",
     "output_type": "stream",
     "text": [
      "請輸入樣本44,55\n",
      "請選擇分配(Exp/Gaus/Pos/Uni)Pos\n",
      "平均數為49.50變異數為49.5\n"
     ]
    }
   ],
   "source": [
    "x_0 = input(\"請輸入樣本\").split(\",\")\n",
    "x =list(map(lambda x: float(x), x_0))\n",
    "mode = input(\"請選擇分配(Exp/Gaus/Pos/Uni)\")\n",
    "if mode == \"Exp\":\n",
    "             print(f'平均數為{E(x)[0]:.2f}變異數為{E(x)[1]:.2f}')\n",
    "elif mode == \"Gaus\":\n",
    "             print(f'平均數為{G(x)[0]:.2f}變異數為{G(x)[1]:.2f}')\n",
    "elif mode == \"Pos\":\n",
    "             print(f'平均數為{P(x)[0]:.2f}變異數為{P(x)[1]:.2f}')\n",
    "elif mode == \"Uni\":\n",
    "             print(f'平均數為{U(x)[0]:.2f}變異數為{U(x)[1]:.2f}')\n",
    "else:\n",
    "    print(\"error\")"
   ]
  },
  {
   "cell_type": "code",
   "execution_count": null,
   "metadata": {},
   "outputs": [],
   "source": []
  }
 ],
 "metadata": {
  "kernelspec": {
   "display_name": "Python 3",
   "language": "python",
   "name": "python3"
  },
  "language_info": {
   "codemirror_mode": {
    "name": "ipython",
    "version": 3
   },
   "file_extension": ".py",
   "mimetype": "text/x-python",
   "name": "python",
   "nbconvert_exporter": "python",
   "pygments_lexer": "ipython3",
   "version": "3.7.1"
  }
 },
 "nbformat": 4,
 "nbformat_minor": 2
}
