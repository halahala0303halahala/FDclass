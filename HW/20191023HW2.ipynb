{
 "cells": [
  {
   "cell_type": "code",
   "execution_count": 1,
   "metadata": {},
   "outputs": [],
   "source": [
    "%matplotlib inline\n",
    "\n",
    "import numpy as np\n",
    "import matplotlib.pyplot as plt\n",
    "import pandas as  pd\n",
    "import sympy as sp"
   ]
  },
  {
   "cell_type": "code",
   "execution_count": 24,
   "metadata": {},
   "outputs": [],
   "source": [
    "import time \n",
    "import datetime as dt\n",
    "import pickle"
   ]
  },
  {
   "cell_type": "code",
   "execution_count": 25,
   "metadata": {},
   "outputs": [],
   "source": [
    "def newdate():\n",
    "    d = input(\"新增節日:\")\n",
    "    d1 = input('新增年/月/日').split('/')\n",
    "    y = int(d1[0])\n",
    "    m = int(d1[1])\n",
    "    d2 = int(d1[2])\n",
    "    datedic[d] = [y,m,d2]\n",
    "\n",
    "def showdate(x):\n",
    "    g = datedic[x]\n",
    "    td = dt.date.today()\n",
    "    nd = dt.date(g[0],g[1],g[2])\n",
    "    md = nd - td\n",
    "    print ('距離'+ x +'還剩下'+str(md.days)+'天')"
   ]
  },
  {
   "cell_type": "code",
   "execution_count": 26,
   "metadata": {},
   "outputs": [],
   "source": [
    "def FNC(x):\n",
    "    if x == 1:\n",
    "        newdate()\n",
    "    elif x ==2:\n",
    "        show = input(\"輸入節日\")\n",
    "        showdate(show)\n",
    "        "
   ]
  },
  {
   "cell_type": "code",
   "execution_count": 27,
   "metadata": {},
   "outputs": [],
   "source": [
    "f = open(\"datedic.pickle\",'rb')"
   ]
  },
  {
   "cell_type": "code",
   "execution_count": 28,
   "metadata": {},
   "outputs": [],
   "source": [
    "datedic = pickle.load(f)"
   ]
  },
  {
   "cell_type": "code",
   "execution_count": 29,
   "metadata": {},
   "outputs": [],
   "source": [
    "f.close()"
   ]
  },
  {
   "cell_type": "code",
   "execution_count": 30,
   "metadata": {
    "scrolled": true
   },
   "outputs": [
    {
     "name": "stdout",
     "output_type": "stream",
     "text": [
      "請選擇功能(1.新增節日2.查詢節日)2\n",
      "輸入節日生日\n",
      "距離生日還剩下10天\n",
      "是否繼續功能?4\n"
     ]
    }
   ],
   "source": [
    "while (True):\n",
    "    x = input('請選擇功能(1.新增節日2.查詢節日)')\n",
    "    FNC(int(x))\n",
    "    y = input('是否繼續功能?')\n",
    "    if y == '是':\n",
    "        continue\n",
    "    else:\n",
    "        break"
   ]
  },
  {
   "cell_type": "code",
   "execution_count": 31,
   "metadata": {},
   "outputs": [],
   "source": [
    "f = open(\"datedic.pickle\",'wb')"
   ]
  },
  {
   "cell_type": "code",
   "execution_count": 32,
   "metadata": {},
   "outputs": [],
   "source": [
    "pickle.dump(datedic,f)"
   ]
  },
  {
   "cell_type": "code",
   "execution_count": 33,
   "metadata": {
    "scrolled": true
   },
   "outputs": [],
   "source": [
    "f.close()"
   ]
  },
  {
   "cell_type": "code",
   "execution_count": 34,
   "metadata": {},
   "outputs": [
    {
     "data": {
      "text/plain": [
       "{'生日': [2019, 11, 7],\n",
       " '高微期中': [2019, 11, 7],\n",
       " '後天': [2019, 10, 30],\n",
       " '大後天': [2019, 10, 31]}"
      ]
     },
     "execution_count": 34,
     "metadata": {},
     "output_type": "execute_result"
    }
   ],
   "source": [
    "datedic"
   ]
  },
  {
   "cell_type": "code",
   "execution_count": 21,
   "metadata": {},
   "outputs": [
    {
     "data": {
      "text/plain": [
       "{'生日': [2019, 11, 7],\n",
       " '高微期中': [2019, 11, 7],\n",
       " '後天': [2019, 10, 30],\n",
       " '大後天': [2019, 10, 31]}"
      ]
     },
     "execution_count": 21,
     "metadata": {},
     "output_type": "execute_result"
    }
   ],
   "source": [
    "datedic"
   ]
  },
  {
   "cell_type": "code",
   "execution_count": 93,
   "metadata": {},
   "outputs": [],
   "source": []
  }
 ],
 "metadata": {
  "kernelspec": {
   "display_name": "Python 3",
   "language": "python",
   "name": "python3"
  },
  "language_info": {
   "codemirror_mode": {
    "name": "ipython",
    "version": 3
   },
   "file_extension": ".py",
   "mimetype": "text/x-python",
   "name": "python",
   "nbconvert_exporter": "python",
   "pygments_lexer": "ipython3",
   "version": "3.7.1"
  }
 },
 "nbformat": 4,
 "nbformat_minor": 2
}
