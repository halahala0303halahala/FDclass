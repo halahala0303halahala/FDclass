{
 "cells": [
  {
   "cell_type": "code",
   "execution_count": 7,
   "metadata": {},
   "outputs": [],
   "source": [
    "%matplotlib inline\n",
    "\n",
    "import numpy as np\n",
    "import matplotlib.pyplot as plt\n",
    "import pandas as pd"
   ]
  },
  {
   "cell_type": "code",
   "execution_count": 8,
   "metadata": {},
   "outputs": [],
   "source": [
    "diodic = {1:\"ko no DIO da！！！\",2:\"你能記得你吃過多少塊麵包嗎？\",3:\"貧弱！貧弱ゥ！\",4:\"Wryyyyyyyyyyyyyyy!!!!!!!\",5:\"「Za waludo！時よ止まれ！」\"}"
   ]
  },
  {
   "cell_type": "code",
   "execution_count": 9,
   "metadata": {},
   "outputs": [
    {
     "name": "stdout",
     "output_type": "stream",
     "text": [
      "JOJO:你失敗的原因只有一個，那就是惹怒了我!\n",
      "DIO:你能記得你吃過多少塊麵包嗎？\n"
     ]
    }
   ],
   "source": [
    "JOJO = \" \"\n",
    "while JOJO != \"你失敗的原因只有一個，那就是惹怒了我!\":\n",
    "    JOJO = input(\"JOJO:\")\n",
    "    if JOJO == \"你到底想說什麼DIO\":\n",
    "        print(\"DIO:我不做人了JOJO!!\")\n",
    "    elif \"歐拉\" in JOJO:\n",
    "        print(\"DIO:無駄！無駄！\")\n",
    "    else:\n",
    "        n=np.random.randint(1,6)\n",
    "        print(\"DIO:\" +diodic[n])"
   ]
  },
  {
   "cell_type": "code",
   "execution_count": null,
   "metadata": {},
   "outputs": [],
   "source": []
  }
 ],
 "metadata": {
  "kernelspec": {
   "display_name": "Python 3",
   "language": "python",
   "name": "python3"
  },
  "language_info": {
   "codemirror_mode": {
    "name": "ipython",
    "version": 3
   },
   "file_extension": ".py",
   "mimetype": "text/x-python",
   "name": "python",
   "nbconvert_exporter": "python",
   "pygments_lexer": "ipython3",
   "version": "3.7.1"
  }
 },
 "nbformat": 4,
 "nbformat_minor": 2
}
